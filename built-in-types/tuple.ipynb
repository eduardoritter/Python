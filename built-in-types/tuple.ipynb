{
 "cells": [
  {
   "cell_type": "markdown",
   "id": "d507f1f4",
   "metadata": {},
   "source": [
    "## Tuple"
   ]
  },
  {
   "cell_type": "markdown",
   "id": "8226ca0b",
   "metadata": {},
   "source": [
    "Tuples are similar to lists, except Tuples are immutable"
   ]
  },
  {
   "cell_type": "code",
   "execution_count": 3,
   "id": "b1d3af1c",
   "metadata": {},
   "outputs": [
    {
     "name": "stdout",
     "output_type": "stream",
     "text": [
      "('foo', 'bar', 'baz', 'qux', 'quux', 'corge')\n",
      "True\n"
     ]
    }
   ],
   "source": [
    "tup = ('foo', 'bar', 'baz', 'qux', 'quux', 'corge')\n",
    "print(tup)\n",
    "\n",
    "print('foo' in tup)"
   ]
  }
 ],
 "metadata": {
  "kernelspec": {
   "display_name": "Python 3 (ipykernel)",
   "language": "python",
   "name": "python3"
  },
  "language_info": {
   "codemirror_mode": {
    "name": "ipython",
    "version": 3
   },
   "file_extension": ".py",
   "mimetype": "text/x-python",
   "name": "python",
   "nbconvert_exporter": "python",
   "pygments_lexer": "ipython3",
   "version": "3.9.7"
  }
 },
 "nbformat": 4,
 "nbformat_minor": 5
}
