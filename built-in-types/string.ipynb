{
 "cells": [
  {
   "cell_type": "markdown",
   "id": "dcb31bec",
   "metadata": {},
   "source": [
    "Longest Substring Without Repeating Characters"
   ]
  },
  {
   "cell_type": "code",
   "execution_count": 2,
   "id": "f307dd04",
   "metadata": {},
   "outputs": [
    {
     "name": "stdout",
     "output_type": "stream",
     "text": [
      "3\n"
     ]
    }
   ],
   "source": [
    "s = \"pwwkew\"\n",
    "\n",
    "#The answer is \"wke\", with the length of 3.\n",
    "\n",
    "maxLength = 0\n",
    "\n",
    "for x in range(len(s)):   \n",
    "    currentLength = 0\n",
    "    usedChar = set()\n",
    "\n",
    "    for c in list(s[x:]):\n",
    "        if c in usedChar: \n",
    "            break\n",
    "        usedChar.add(c)\n",
    "        currentLength += 1\n",
    "\n",
    "    if currentLength > maxLength:\n",
    "        maxLength = currentLength\n",
    "\n",
    "print(maxLength)"
   ]
  }
 ],
 "metadata": {
  "kernelspec": {
   "display_name": "Python 3 (ipykernel)",
   "language": "python",
   "name": "python3"
  },
  "language_info": {
   "codemirror_mode": {
    "name": "ipython",
    "version": 3
   },
   "file_extension": ".py",
   "mimetype": "text/x-python",
   "name": "python",
   "nbconvert_exporter": "python",
   "pygments_lexer": "ipython3",
   "version": "3.9.7"
  }
 },
 "nbformat": 4,
 "nbformat_minor": 5
}
