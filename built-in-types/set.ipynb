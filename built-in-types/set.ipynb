{
 "cells": [
  {
   "cell_type": "markdown",
   "metadata": {},
   "source": [
    "## Set"
   ]
  },
  {
   "cell_type": "code",
   "execution_count": 4,
   "metadata": {},
   "outputs": [
    {
     "name": "stdout",
     "output_type": "stream",
     "text": [
      "{1, 2}\n"
     ]
    }
   ],
   "source": [
    "s = set()\n",
    "\n",
    "s.add(1)\n",
    "s.add(2)\n",
    "s.add(1)\n",
    "\n",
    "print(s)"
   ]
  },
  {
   "cell_type": "code",
   "execution_count": 1,
   "metadata": {},
   "outputs": [
    {
     "data": {
      "text/plain": [
       "{1, 2, 3, 4}"
      ]
     },
     "execution_count": 1,
     "metadata": {},
     "output_type": "execute_result"
    }
   ],
   "source": [
    "duplicated_items = [1, 2, 3, 4, 2, 2, 3, 1, 4, 4, 4]\n",
    "\n",
    "# set of integers\n",
    "set(duplicated_items)"
   ]
  },
  {
   "cell_type": "code",
   "execution_count": 6,
   "metadata": {},
   "outputs": [
    {
     "name": "stdout",
     "output_type": "stream",
     "text": [
      "{1.0, 2, 3, 4, 'house', (1, 2, 3), 'Hello', (2, 3)}\n",
      "True\n"
     ]
    }
   ],
   "source": [
    "# set of mixed datatypes\n",
    "my_set = {1.0, 'Hello', (1, 2, 3), (2, 3)}\n",
    "my_set.update([1, 2, 3, 3, 4, 'house'])\n",
    "\n",
    "print(my_set)\n",
    "print('house' in my_set)"
   ]
  },
  {
   "cell_type": "code",
   "execution_count": 3,
   "metadata": {},
   "outputs": [
    {
     "name": "stdout",
     "output_type": "stream",
     "text": [
      "Union {1, 2, 3, 4, 5, 6, 7, 8}\n",
      "Intersection {4, 5}\n",
      "Difference {1, 2, 3}\n",
      "Symmetric Difference {1, 2, 3, 6, 7, 8}\n"
     ]
    }
   ],
   "source": [
    "set_a = {1, 2, 3, 4, 5}\n",
    "set_b = {4, 5, 6, 7, 8}\n",
    "\n",
    "print('Union', set_a.union(set_b))\n",
    "print('Intersection', set_a.intersection(set_b))\n",
    "print('Difference', set_a.difference(set_b))\n",
    "print('Symmetric Difference', set_a.symmetric_difference(set_b))"
   ]
  },
  {
   "cell_type": "markdown",
   "metadata": {},
   "source": [
    "## Frozenset"
   ]
  },
  {
   "cell_type": "code",
   "execution_count": 4,
   "metadata": {},
   "outputs": [],
   "source": [
    "# Frozensets are immutable sets\n",
    "A = frozenset([1, 2, 3, 4])\n",
    "B = frozenset([3, 4])"
   ]
  },
  {
   "cell_type": "code",
   "execution_count": 5,
   "metadata": {},
   "outputs": [
    {
     "data": {
      "text/plain": [
       "True"
      ]
     },
     "execution_count": 5,
     "metadata": {},
     "output_type": "execute_result"
    }
   ],
   "source": [
    "B.issubset(A)"
   ]
  }
 ],
 "metadata": {
  "kernelspec": {
   "display_name": "Python 3 (ipykernel)",
   "language": "python",
   "name": "python3"
  },
  "language_info": {
   "codemirror_mode": {
    "name": "ipython",
    "version": 3
   },
   "file_extension": ".py",
   "mimetype": "text/x-python",
   "name": "python",
   "nbconvert_exporter": "python",
   "pygments_lexer": "ipython3",
   "version": "3.9.7"
  }
 },
 "nbformat": 4,
 "nbformat_minor": 4
}
